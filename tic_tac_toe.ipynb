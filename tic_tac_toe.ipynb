{
  "cells": [
    {
      "cell_type": "code",
      "execution_count": 2,
      "metadata": {
        "colab": {
          "base_uri": "https://localhost:8080/"
        },
        "id": "3NTnW1gRRfFb",
        "outputId": "516dbf86-51e6-475a-9de9-297d92423b9b"
      },
      "outputs": [
        {
          "output_type": "stream",
          "name": "stdout",
          "text": [
            "X shape: (4540, 9)\n",
            "y shape: (4540,)\n"
          ]
        }
      ],
      "source": [
        "import pandas as pd\n",
        "import numpy as np\n",
        "import tensorflow as tf\n",
        "from tensorflow.keras.models import Sequential\n",
        "from tensorflow.keras.layers import Dense\n",
        "from tensorflow.keras.callbacks import EarlyStopping\n",
        "\n",
        "# Load the data\n",
        "data = pd.read_csv('output.csv')\n",
        "\n",
        "# Separate features and labels\n",
        "X = data.iloc[:, :-1].values  # Features (all columns except the last one)\n",
        "y = data['move'].values        # Labels (last column)\n",
        "\n",
        "# Check the shape of your data\n",
        "print(\"X shape:\", X.shape)\n",
        "print(\"y shape:\", y.shape)\n"
      ]
    },
    {
      "cell_type": "markdown",
      "metadata": {
        "id": "TRRF3UGcbLCm"
      },
      "source": []
    },
    {
      "cell_type": "code",
      "execution_count": null,
      "metadata": {
        "id": "NKzEqsTBR791"
      },
      "outputs": [],
      "source": [
        "# Define the model v1\n",
        "# model = Sequential(\n",
        "#     [\n",
        "#         Dense(50, activation='relu', input_shape=(X.shape[1],)),  # Input layer\n",
        "#         Dense(30, activation='relu'),\n",
        "#         Dense(9, activation='softmax')  # Output layer with softmax activation\n",
        "#     ]\n",
        "# )\n",
        "# #v3\n",
        "# model = Sequential(\n",
        "#     [\n",
        "#         Dense(100, activation='relu', input_shape=(X.shape[1],)),\n",
        "#         Dense(50, activation='relu'),\n",
        "#         Dense(20, activation='relu'),  # Extra layer\n",
        "#         Dense(9, activation='softmax')\n",
        "#     ]\n",
        "# )\n",
        "#v4\n",
        "model = Sequential(\n",
        "    [\n",
        "        Dense(150, activation='relu', input_shape=(X.shape[1],)),\n",
        "        Dense(75, activation='relu'),\n",
        "        Dense(30, activation='relu'),  # Optional extra layer\n",
        "        Dense(9, activation='softmax')\n",
        "    ]\n",
        ")\n",
        "\n",
        "\n",
        "early_stopping = EarlyStopping(monitor='accuracy', patience=20, restore_best_weights=True)\n",
        "\n",
        "\n",
        "\n",
        "# Compile the model\n",
        "model.compile(\n",
        "    loss=tf.keras.losses.SparseCategoricalCrossentropy(),\n",
        "    optimizer=tf.keras.optimizers.Adam(0.001),\n",
        "    metrics=['accuracy']  # Add accuracy as a metric\n",
        ")\n",
        "model.fit(X, y, epochs=600, batch_size=64, callbacks=[early_stopping])\n",
        "# Train the model\n",
        "# model.fit(\n",
        "#     X, y,\n",
        "#     epochs=500,\n",
        "#     batch_size=64  # You can adjust the batch size as needed\n",
        "# )\n"
      ]
    },
    {
      "cell_type": "code",
      "execution_count": 8,
      "metadata": {
        "colab": {
          "base_uri": "https://localhost:8080/"
        },
        "id": "Vqtm7fqSSGHb",
        "outputId": "bb5fd752-13ff-48f0-f531-d582a5e3fd36"
      },
      "outputs": [
        {
          "output_type": "stream",
          "name": "stdout",
          "text": [
            "\u001b[1m1/1\u001b[0m \u001b[32m━━━━━━━━━━━━━━━━━━━━\u001b[0m\u001b[37m\u001b[0m \u001b[1m0s\u001b[0m 69ms/step\n",
            "Raw predictions: [[4.2556385e-14 3.7708885e-06 5.3072717e-02 2.9932743e-01 5.1366836e-01\n",
            "  3.5628385e-04 9.9059671e-02 1.2376237e-04 3.4388009e-02]]\n",
            "Predicted move: [4]\n"
          ]
        }
      ],
      "source": [
        "# New data (replace with actual data you want to predict)\n",
        "new_data = np.array([[1, 0, 0, 0, 0, 0, 0, 0, 0]])  # Shape should match input shape (9 features)\n",
        "\n",
        "# Make predictions\n",
        "predictions = model.predict(new_data)\n",
        "\n",
        "# Print raw predictions (probabilities for each class)\n",
        "print(\"Raw predictions:\", predictions)\n",
        "\n",
        "# Get the class with the highest probability (argmax)\n",
        "predicted_class = np.argmax(predictions, axis=1)\n",
        "\n",
        "# Print the predicted class\n",
        "print(\"Predicted move:\", predicted_class)\n"
      ]
    },
    {
      "cell_type": "code",
      "execution_count": null,
      "metadata": {
        "colab": {
          "base_uri": "https://localhost:8080/"
        },
        "id": "WzRaVUekSISF",
        "outputId": "df453235-33f3-4ca0-891d-ac009dc3a0b2"
      },
      "outputs": [
        {
          "name": "stderr",
          "output_type": "stream",
          "text": [
            "WARNING:absl:You are saving your model as an HDF5 file via `model.save()` or `keras.saving.save_model(model)`. This file format is considered legacy. We recommend using instead the native Keras format, e.g. `model.save('my_model.keras')` or `keras.saving.save_model(model, 'my_model.keras')`. \n"
          ]
        }
      ],
      "source": [
        "# Save the entire model as a HDF5 file\n",
        "model.save('tic_tac_toe_model.h5')"
      ]
    },
    {
      "cell_type": "code",
      "execution_count": 11,
      "metadata": {
        "id": "JQ-yLvjAUdJK"
      },
      "outputs": [],
      "source": [
        "model.save('model_v4_1.keras')"
      ]
    },
    {
      "cell_type": "code",
      "execution_count": null,
      "metadata": {
        "id": "NTLwtyEIERLK"
      },
      "outputs": [],
      "source": []
    }
  ],
  "metadata": {
    "colab": {
      "provenance": []
    },
    "kernelspec": {
      "display_name": "Python 3",
      "name": "python3"
    },
    "language_info": {
      "name": "python"
    }
  },
  "nbformat": 4,
  "nbformat_minor": 0
}